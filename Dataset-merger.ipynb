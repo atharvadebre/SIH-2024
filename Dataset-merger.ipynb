{
 "cells": [
  {
   "cell_type": "code",
   "execution_count": null,
   "id": "c2fc7c24-39a8-4624-9936-90427524fd26",
   "metadata": {},
   "outputs": [],
   "source": [
    "import pandas as pd\n",
    "import numpy as np\n",
    "import matplotlib.pyplot as plt\n",
    "import seaborn as sns\n",
    "import plotly.express as px\n",
    "import plotly.graph_objects as go\n",
    "import  warnings\n",
    "warnings.filterwarnings('ignore')"
   ]
  },
  {
   "cell_type": "code",
   "execution_count": null,
   "id": "603993a8-0d05-43df-93d9-13a1f576fa4a",
   "metadata": {},
   "outputs": [],
   "source": [
    "df1 = pd.read_csv('sih-1.csv')"
   ]
  },
  {
   "cell_type": "code",
   "execution_count": null,
   "id": "37b68e00-eec2-475f-b92a-c3e3e88045b4",
   "metadata": {},
   "outputs": [],
   "source": [
    "df2 = pd.read_csv('sih-2.csv')\n"
   ]
  },
  {
   "cell_type": "code",
   "execution_count": null,
   "id": "74e4cdfe-479c-4c2d-aece-660b5eb6c7b2",
   "metadata": {},
   "outputs": [],
   "source": [
    "df1.head()"
   ]
  },
  {
   "cell_type": "code",
   "execution_count": null,
   "id": "8fcf0a36-3602-4dff-85b0-42c44cacbbad",
   "metadata": {},
   "outputs": [],
   "source": [
    "df2.head()"
   ]
  },
  {
   "cell_type": "code",
   "execution_count": null,
   "id": "f59c6493-1998-4ba1-bb53-13daa0b50fb7",
   "metadata": {},
   "outputs": [],
   "source": [
    "# Convert 'Oct-20' to '10-20'\n",
    "df2['TEMPERATURE'] = df2['TEMPERATURE'].replace('Oct-20', '10-20')\n",
    "\n",
    "# Convert temperature ranges to median\n",
    "def calculate_median(temp):\n",
    "    if '-' in temp:\n",
    "        low, high = map(int, temp.split('-'))\n",
    "        return (low + high) / 2\n",
    "    return float(temp)\n",
    "\n",
    "df2['TEMPERATURE'] = df2['TEMPERATURE'].apply(calculate_median)\n",
    "\n",
    "# Rename 'WATER REQUIREMENT' to 'WATER REQUIREMENT IN LITRES'\n",
    "df2.rename(columns={'WATER REQUIREMENT': 'WATER REQUIREMENT IN LITRES'}, inplace=True)"
   ]
  },
  {
   "cell_type": "code",
   "execution_count": null,
   "id": "56803a01-546a-4635-bfc5-99e1289c6e42",
   "metadata": {},
   "outputs": [],
   "source": [
    "df2.head()"
   ]
  },
  {
   "cell_type": "code",
   "execution_count": null,
   "id": "4e2b291e-00f5-4ac4-b657-628f67a42803",
   "metadata": {},
   "outputs": [],
   "source": [
    "df1['TEMPERATURE'] = pd.to_numeric(df1['TEMPERATURE'], errors='coerce')\n",
    "df2['TEMPERATURE'] = pd.to_numeric(df2['TEMPERATURE'], errors='coerce')\n"
   ]
  },
  {
   "cell_type": "code",
   "execution_count": null,
   "id": "144ded71-a705-4592-a03c-bad648ac7d73",
   "metadata": {},
   "outputs": [],
   "source": [
    "df2.head()"
   ]
  },
  {
   "cell_type": "code",
   "execution_count": null,
   "id": "10aa0f07-45b1-4dbb-b155-1b2e4dd70f14",
   "metadata": {},
   "outputs": [],
   "source": [
    "df1.head()"
   ]
  },
  {
   "cell_type": "code",
   "execution_count": null,
   "id": "e8c0775f-96bc-4c60-9b53-0e2eae1abee3",
   "metadata": {},
   "outputs": [],
   "source": [
    "df3 = df2.merge(df1, on='TEMPERATURE', how='left')\n"
   ]
  },
  {
   "cell_type": "code",
   "execution_count": null,
   "id": "8b80d9e5-5857-4c6a-ac50-77536aa0aea5",
   "metadata": {},
   "outputs": [],
   "source": [
    "# Count unique values in the 'CROP TYPE' column\n",
    "crop_type_counts = df3[\"CROP TYPE\"].value_counts()\n",
    "\n",
    "# Print the counts\n",
    "print(\"Unique value counts for 'CROP TYPE':\")\n",
    "print(crop_type_counts)"
   ]
  },
  {
   "cell_type": "code",
   "execution_count": null,
   "id": "e4eaa9fe-1a82-4e20-b997-8f8738f0c2c4",
   "metadata": {},
   "outputs": [],
   "source": [
    "df3.head()"
   ]
  },
  {
   "cell_type": "code",
   "execution_count": null,
   "id": "61666909-55c5-4a7f-9a88-985b227cdc1e",
   "metadata": {},
   "outputs": [],
   "source": [
    "# Calculate summary statistics\n",
    "mean_water_requirement = df3['WATER REQUIREMENT IN LITRES'].mean()\n",
    "median_water_requirement = df3['WATER REQUIREMENT IN LITRES'].median()\n",
    "mode_water_requirement = df3['WATER REQUIREMENT IN LITRES'].mode()[0]\n",
    "\n",
    "# Choose the central tendency measure (mean, median, or mode)\n",
    "central_value = mean_water_requirement  # You can use median or mode if preferred\n",
    "\n",
    "# Define the allowed deviation (1% of the central value)\n",
    "deviation = 0.01 * central_value\n",
    "\n",
    "# Calculate summary statistics\n",
    "mean_water_requirement = df3['WATER REQUIREMENT IN LITRES'].mean()\n",
    "median_water_requirement = df3['WATER REQUIREMENT IN LITRES'].median()\n",
    "mode_water_requirement = df3['WATER REQUIREMENT IN LITRES'].mode()[0]\n",
    "\n",
    "mean_soil_moisture = df3['SOIL_MOISTURE'].mean()\n",
    "median_soil_moisture = df3['SOIL_MOISTURE'].median()\n",
    "mode_soil_moisture = df3['SOIL_MOISTURE'].mode()[0]\n",
    "\n",
    "mean_humidity = df3['HUMIDITY'].mean()\n",
    "median_humidity = df3['HUMIDITY'].median()\n",
    "mode_humidity = df3['HUMIDITY'].mode()[0]\n",
    "\n",
    "mean_rainfall = df3['RAINFALL'].mean()\n",
    "median_rainfall = df3['RAINFALL'].median()\n",
    "mode_rainfall = df3['RAINFALL'].mode()[0]\n",
    "\n",
    "# Choose the central tendency measure (mean, median, or mode)\n",
    "central_value_water = mean_water_requirement  # You can use median or mode if preferred\n",
    "central_value_soil_moisture = mean_soil_moisture\n",
    "central_value_humidity = mean_humidity\n",
    "central_value_rainfall = mean_rainfall\n",
    "\n",
    "# Define the allowed deviation (1% of the central value)\n",
    "deviation_water = 0.01 * central_value_water\n",
    "deviation_soil_moisture = 0.01 * central_value_soil_moisture\n",
    "deviation_humidity = 0.01 * central_value_humidity\n",
    "deviation_rainfall = 0.01 * central_value_rainfall\n",
    "\n",
    "\n",
    "# Define categorical options\n",
    "soil_types = ['DRY', 'HUMID', 'WET']\n",
    "regions = ['DESERT', 'SEMI ARID', 'SEMI HUMID', 'HUMID']\n",
    "temperatures = ['15.0', '25.0', '35.0', '45.0']\n",
    "weather_conditions = ['NORMAL', 'SUNNY', 'WINDY', 'RAINY']\n",
    "\n",
    "# Define the number of samples\n",
    "num_samples = 40000\n",
    "\n",
    "# Generate synthetic data with tight variations\n",
    "np.random.seed(42)  # For reproducibility\n",
    "\n",
    "synthetic_data = {\n",
    "    'CROP TYPE': ['OTHER'] * num_samples,\n",
    "    'SOIL TYPE': np.random.choice(soil_types, num_samples),\n",
    "    'REGION': np.random.choice(regions, num_samples),\n",
    "    'TEMPERATURE': np.random.choice(temperatures, num_samples),\n",
    "    'WEATHER CONDITION': np.random.choice(weather_conditions, num_samples),\n",
    "    'WATER REQUIREMENT IN LITRES': np.random.uniform(\n",
    "        central_value_water - deviation_water,\n",
    "        central_value_water + deviation_water,\n",
    "        num_samples\n",
    "    ),\n",
    "    'SOIL_MOISTURE': np.random.uniform(\n",
    "        central_value_soil_moisture - deviation_soil_moisture,\n",
    "        central_value_soil_moisture + deviation_soil_moisture,\n",
    "        num_samples\n",
    "    ),\n",
    "    'HUMIDITY': np.random.uniform(\n",
    "        central_value_humidity - deviation_humidity,\n",
    "        central_value_humidity + deviation_humidity,\n",
    "        num_samples\n",
    "    ),\n",
    "    'RAINFALL': np.random.uniform(\n",
    "        central_value_rainfall - deviation_rainfall,\n",
    "        central_value_rainfall + deviation_rainfall,\n",
    "        num_samples\n",
    "    )\n",
    "}\n",
    "\n",
    "df_other = pd.DataFrame(synthetic_data)\n",
    "\n",
    "# Combine the synthetic data with the original data\n",
    "final_df = pd.concat([df3, df_other], ignore_index=True)\n",
    "df3=final_df.copy()"
   ]
  },
  {
   "cell_type": "code",
   "execution_count": null,
   "id": "4d8272de-b1f3-4073-90a4-d2dd6b4f0ca2",
   "metadata": {},
   "outputs": [],
   "source": [
    "df3.head()"
   ]
  },
  {
   "cell_type": "code",
   "execution_count": null,
   "id": "fcdc0079-61bb-4a9a-b4f3-979d13856d5c",
   "metadata": {},
   "outputs": [],
   "source": [
    "# Initialize label encoders\n",
    "label_encoders = {}\n",
    "\n",
    "# Columns to encode\n",
    "columns_to_encode = ['CROP TYPE', 'SOIL TYPE', 'REGION', 'WEATHER CONDITION']\n",
    "\n",
    "# Apply label encoding to each categorical column\n",
    "for column in columns_to_encode:\n",
    "    # Convert all values to strings\n",
    "    df3[column] = df3[column].astype(str)\n",
    "    \n",
    "    # Initialize and apply label encoder\n",
    "    le = LabelEncoder()\n",
    "    df3[column] = le.fit_transform(df3[column])\n",
    "    label_encoders[column] = le\n",
    "\n",
    "# Print the label encoders for each column\n",
    "for column, le in label_encoders.items():\n",
    "    print(f\"\\nLabel encoding for {column}:\")\n",
    "    print(dict(zip(le.classes_, le.transform(le.classes_))))\n",
    "\n",
    "print(\"\\nEncoded DataFrame:\")\n",
    "print(df3)"
   ]
  },
  {
   "cell_type": "code",
   "execution_count": null,
   "id": "e7335917-85bd-4b7b-969a-7b02e9307e8e",
   "metadata": {},
   "outputs": [],
   "source": [
    "df4 = df3.drop(columns=['STATUS'])"
   ]
  },
  {
   "cell_type": "code",
   "execution_count": null,
   "id": "8436bf0d-6523-45aa-99b3-0e05f3fd7477",
   "metadata": {},
   "outputs": [],
   "source": [
    "df4.head()"
   ]
  },
  {
   "cell_type": "code",
   "execution_count": null,
   "id": "1576ef3e-8911-4a6a-b0a9-dc6c8446a47e",
   "metadata": {},
   "outputs": [],
   "source": [
    "df4.to_csv()"
   ]
  },
  {
   "cell_type": "code",
   "execution_count": null,
   "id": "a4128eba-5c62-43db-ab08-f628df4c0ec3",
   "metadata": {},
   "outputs": [],
   "source": [
    "import seaborn as sns\n",
    "import matplotlib.pyplot as plt"
   ]
  },
  {
   "cell_type": "code",
   "execution_count": null,
   "id": "546af8fb-1e68-4432-b27d-4323016b5959",
   "metadata": {},
   "outputs": [],
   "source": [
    "# Compute the correlation matrix\n",
    "correlation_matrix = df4.corr()\n",
    "\n",
    "# Print the correlation matrix\n",
    "print(\"Correlation Matrix:\")\n",
    "print(correlation_matrix)\n",
    "\n",
    "# Plot the correlation matrix\n",
    "plt.figure(figsize=(10, 8))\n",
    "sns.heatmap(correlation_matrix, annot=True, cmap='coolwarm', fmt='.2f', linewidths=0.5)\n",
    "plt.title('Correlation Matrix')\n",
    "plt.show()"
   ]
  },
  {
   "cell_type": "markdown",
   "id": "1091c9c4-65c4-49f4-9f07-c25b2db6d063",
   "metadata": {},
   "source": [
    "Linear Regression"
   ]
  },
  {
   "cell_type": "code",
   "execution_count": null,
   "id": "4ce9b4bf-1fb7-4555-88ed-dc7a5216f9ca",
   "metadata": {},
   "outputs": [],
   "source": [
    "import numpy as np\n",
    "from sklearn.model_selection import train_test_split\n",
    "from sklearn.preprocessing import LabelEncoder\n",
    "from sklearn.linear_model import LinearRegression\n",
    "from sklearn.metrics import mean_squared_error, r2_score\n",
    "from sklearn.impute import SimpleImputer\n",
    "from sklearn.metrics import mean_squared_error, mean_absolute_error\n",
    "\n",
    "\n",
    "# Handle missing values\n",
    "# Option 1: Drop rows with missing values\n",
    "df_cleaned = df4.dropna()\n",
    "\n",
    "# Option 2: Impute missing values\n",
    "# imputer = SimpleImputer(strategy='mean')  # For numerical columns\n",
    "# df_cleaned = df.copy()\n",
    "# df_cleaned[['TEMPERATURE', 'HUMIDITY']] = imputer.fit_transform(df[['TEMPERATURE', 'HUMIDITY']])\n",
    "\n",
    "# Define features and target variable\n",
    "X = df_cleaned.drop(columns=['WATER REQUIREMENT IN LITRES'])\n",
    "y = df_cleaned['WATER REQUIREMENT IN LITRES']\n",
    "\n",
    "# Split the data into training and testing sets\n",
    "X_train, X_test, y_train, y_test = train_test_split(X, y, test_size=0.2, random_state=42)\n",
    "\n",
    "# Create and train the linear regression model\n",
    "model = LinearRegression()\n",
    "model.fit(X_train, y_train)\n",
    "\n",
    "#  Make predictions\n",
    "y_pred = model.predict(X_test)\n",
    "\n",
    "# Calculate Mean Squared Error (MSE)\n",
    "mse = mean_squared_error(y_test, y_pred)\n",
    "\n",
    "# Calculate Root Mean Squared Error (RMSE)\n",
    "rmse = np.sqrt(mse)\n",
    "\n",
    "# Calculate Mean Absolute Error (MAE)\n",
    "mae = mean_absolute_error(y_test, y_pred)\n",
    "\n",
    "# Calculate Mean Absolute Percentage Error (MAPE)\n",
    "mape = np.mean(np.abs((y_test - y_pred) / y_test)) * 100\n",
    "\n",
    "# Calculate Accuracy (as 1 - MAPE)\n",
    "accuracy = 100 - mape\n",
    "\n",
    "print(\"Mean Squared Error (MSE):\", mse)\n",
    "print(\"Root Mean Squared Error (RMSE):\", rmse)\n",
    "print(\"Mean Absolute Percentage Error (MAPE):\", mape, \"%\")\n",
    "print(\"Accuracy:\", accuracy, \"%\")\n",
    "\n",
    "# Plot actual vs predicted graph\n",
    "plt.figure(figsize=(10, 6))\n",
    "plt.scatter(y_test, y_pred, color='blue')\n",
    "plt.plot([min(y_test), max(y_test)], [min(y_test), max(y_test)], color='red', linestyle='--', linewidth=2)\n",
    "plt.xlabel('Actual Water Requirement')\n",
    "plt.ylabel('Predicted Water Requirement')\n",
    "plt.title('Actual vs Predicted Water Requirement')\n",
    "plt.show()"
   ]
  }
 ],
 "metadata": {
  "kernelspec": {
   "display_name": "Python 3 (ipykernel)",
   "language": "python",
   "name": "python3"
  },
  "language_info": {
   "codemirror_mode": {
    "name": "ipython",
    "version": 3
   },
   "file_extension": ".py",
   "mimetype": "text/x-python",
   "name": "python",
   "nbconvert_exporter": "python",
   "pygments_lexer": "ipython3",
   "version": "3.12.4"
  }
 },
 "nbformat": 4,
 "nbformat_minor": 5
}
